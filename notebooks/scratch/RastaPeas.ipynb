{
 "metadata": {
  "language_info": {
   "codemirror_mode": {
    "name": "ipython",
    "version": 3
   },
   "file_extension": ".py",
   "mimetype": "text/x-python",
   "name": "python",
   "nbconvert_exporter": "python",
   "pygments_lexer": "ipython3",
   "version": "3.8.5-final"
  },
  "orig_nbformat": 2,
  "kernelspec": {
   "name": "python3",
   "display_name": "Python 3",
   "language": "python"
  }
 },
 "nbformat": 4,
 "nbformat_minor": 2,
 "cells": [
  {
   "source": [
    "# clustering calcium signals\n",
    "https://docs.google.com/document/d/18pjHYOuAd8yLlwQOMr20EXVkvPd2xPTn99PT9L2-_yo/edit#"
   ],
   "cell_type": "markdown",
   "metadata": {}
  },
  {
   "source": [
    "## The plan\n",
    "- try rastermap\n",
    "- "
   ],
   "cell_type": "markdown",
   "metadata": {}
  },
  {
   "source": [
    "![title](bauerLGN.png)\n"
   ],
   "cell_type": "markdown",
   "metadata": {}
  },
  {
   "cell_type": "code",
   "execution_count": 13,
   "metadata": {},
   "outputs": [],
   "source": [
    "import tifffile \n",
    "import numpy as np\n",
    "from pathlib import Path\n",
    "import matplotlib.pyplot as plt\n",
    "import ipywidgets as ipw\n",
    "from rastermap import Rastermap as rm\n"
   ]
  },
  {
   "source": [
    "## load data"
   ],
   "cell_type": "markdown",
   "metadata": {}
  },
  {
   "cell_type": "code",
   "execution_count": 9,
   "metadata": {},
   "outputs": [
    {
     "output_type": "execute_result",
     "data": {
      "text/plain": [
       "WindowsPath('../../data/processed/suite2p/plane0')"
      ]
     },
     "metadata": {},
     "execution_count": 9
    }
   ],
   "source": [
    "filepath = Path(\"../../data/processed/suite2p/plane0\")\n",
    "filepath"
   ]
  },
  {
   "cell_type": "code",
   "execution_count": 10,
   "metadata": {},
   "outputs": [],
   "source": [
    "F = np.load(filepath.joinpath('F.npy'), allow_pickle=True)\n",
    "Fneu = np.load(filepath.joinpath('Fneu.npy'), allow_pickle=True)\n",
    "deconv = np.load(filepath.joinpath('spks.npy'), allow_pickle=True)\n",
    "stat = np.load(filepath.joinpath('stat.npy'), allow_pickle=True)\n",
    "ops = np.load(filepath.joinpath('ops.npy'), allow_pickle=True).item()\n",
    "iscell = np.load(filepath.joinpath('iscell.npy'), allow_pickle=True)"
   ]
  },
  {
   "cell_type": "code",
   "execution_count": 3,
   "metadata": {},
   "outputs": [
    {
     "output_type": "execute_result",
     "data": {
      "text/plain": [
       "['Rastermap',\n",
       " '__builtins__',\n",
       " '__cached__',\n",
       " '__doc__',\n",
       " '__file__',\n",
       " '__loader__',\n",
       " '__name__',\n",
       " '__package__',\n",
       " '__path__',\n",
       " '__spec__',\n",
       " 'mapping',\n",
       " 'name']"
      ]
     },
     "metadata": {},
     "execution_count": 3
    }
   ],
   "source": [
    "dir(rm)"
   ]
  },
  {
   "source": [
    "model = Rastermap(n_components=1, n_X=30, nPC=200, init='pca')\n",
    "\n",
    ". fit does not return anything, it adds attributes to model\n",
    ". attributes: embedding, u, s, v, isort1\n",
    "\n",
    "model.fit(sp)\n",
    "plt.imshow(sp[model.isort1, :])\n",
    "\n",
    ". fit_transform returns embedding (upsampled cluster identities)\n",
    "embedding = model.fit_transform(sp)\n",
    "\n",
    ". transform can be used on new samples with the same number of features as sp\n",
    "embed2 = model.transform(sp2)"
   ],
   "cell_type": "markdown",
   "metadata": {}
  },
  {
   "cell_type": "code",
   "execution_count": 22,
   "metadata": {},
   "outputs": [],
   "source": [
    "model = rm(n_components=1, n_X=30, nPC=200, init='pca')"
   ]
  },
  {
   "cell_type": "code",
   "execution_count": 33,
   "metadata": {},
   "outputs": [
    {
     "output_type": "execute_result",
     "data": {
      "text/plain": [
       "(109, 2250)"
      ]
     },
     "metadata": {},
     "execution_count": 33
    }
   ],
   "source": [
    "deconvcells = deconv[np.where(iscell[:,0] == 1)]\n",
    "deconvcells.shape"
   ]
  },
  {
   "cell_type": "code",
   "execution_count": 35,
   "metadata": {},
   "outputs": [
    {
     "output_type": "stream",
     "name": "stdout",
     "text": [
      "nmin 109\n",
      "0.000997781753540039\n",
      "0.06895685195922852\n",
      "0.07495403289794922\n",
      "0.07695317268371582\n",
      "(28, 30)\n",
      "(60,)\n",
      "1.0\n",
      "time; iteration;  explained PC variance\n",
      "0.00s     0        0.0360      2\n",
      "0.05s    10        0.1178      4\n",
      "0.09s    20        0.1977      8\n",
      "0.12s    30        0.3580      18\n",
      "0.18s    40        0.4834      28\n",
      "0.21s    50        0.4836      28\n",
      "0.24s   final      0.4836\n",
      "0.24s upsampled    0.4836\n"
     ]
    },
    {
     "output_type": "execute_result",
     "data": {
      "text/plain": [
       "<matplotlib.image.AxesImage at 0x1a61ec71670>"
      ]
     },
     "metadata": {},
     "execution_count": 35
    },
    {
     "output_type": "display_data",
     "data": {
      "text/plain": "<Figure size 432x288 with 1 Axes>",
      "image/svg+xml": "<?xml version=\"1.0\" encoding=\"utf-8\" standalone=\"no\"?>\r\n<!DOCTYPE svg PUBLIC \"-//W3C//DTD SVG 1.1//EN\"\r\n  \"http://www.w3.org/Graphics/SVG/1.1/DTD/svg11.dtd\">\r\n<!-- Created with matplotlib (https://matplotlib.org/) -->\r\n<svg height=\"51.022144pt\" version=\"1.1\" viewBox=\"0 0 375.2875 51.022144\" width=\"375.2875pt\" xmlns=\"http://www.w3.org/2000/svg\" xmlns:xlink=\"http://www.w3.org/1999/xlink\">\r\n <metadata>\r\n  <rdf:RDF xmlns:cc=\"http://creativecommons.org/ns#\" xmlns:dc=\"http://purl.org/dc/elements/1.1/\" xmlns:rdf=\"http://www.w3.org/1999/02/22-rdf-syntax-ns#\">\r\n   <cc:Work>\r\n    <dc:type rdf:resource=\"http://purl.org/dc/dcmitype/StillImage\"/>\r\n    <dc:date>2021-03-19T12:37:21.818819</dc:date>\r\n    <dc:format>image/svg+xml</dc:format>\r\n    <dc:creator>\r\n     <cc:Agent>\r\n      <dc:title>Matplotlib v3.3.4, https://matplotlib.org/</dc:title>\r\n     </cc:Agent>\r\n    </dc:creator>\r\n   </cc:Work>\r\n  </rdf:RDF>\r\n </metadata>\r\n <defs>\r\n  <style type=\"text/css\">*{stroke-linecap:butt;stroke-linejoin:round;}</style>\r\n </defs>\r\n <g id=\"figure_1\">\r\n  <g id=\"patch_1\">\r\n   <path d=\"M 0 51.022144 \r\nL 375.2875 51.022144 \r\nL 375.2875 0 \r\nL 0 0 \r\nz\r\n\" style=\"fill:none;\"/>\r\n  </g>\r\n  <g id=\"axes_1\">\r\n   <g id=\"patch_2\">\r\n    <path d=\"M 33.2875 27.144019 \r\nL 368.0875 27.144019 \r\nL 368.0875 10.924819 \r\nL 33.2875 10.924819 \r\nz\r\n\" style=\"fill:#ffffff;\"/>\r\n   </g>\r\n   <g clip-path=\"url(#p467af769ec)\">\r\n    <image height=\"17\" id=\"image01025ed751\" transform=\"scale(1 -1)translate(0 -17)\" width=\"335\" x=\"33.2875\" xlink:href=\"data:image/png;base64,\r\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\" y=\"-10.144019\"/>\r\n   </g>\r\n   <g id=\"matplotlib.axis_1\">\r\n    <g id=\"xtick_1\">\r\n     <g id=\"line2d_1\">\r\n      <defs>\r\n       <path d=\"M 0 0 \r\nL 0 3.5 \r\n\" id=\"ma9b99b3e2a\" style=\"stroke:#000000;stroke-width:0.8;\"/>\r\n      </defs>\r\n      <g>\r\n       <use style=\"stroke:#000000;stroke-width:0.8;\" x=\"33.3619\" xlink:href=\"#ma9b99b3e2a\" y=\"27.144019\"/>\r\n      </g>\r\n     </g>\r\n     <g id=\"text_1\">\r\n      <!-- 0 -->\r\n      <g transform=\"translate(30.18065 41.742456)scale(0.1 -0.1)\">\r\n       <defs>\r\n        <path d=\"M 31.78125 66.40625 \r\nQ 24.171875 66.40625 20.328125 58.90625 \r\nQ 16.5 51.421875 16.5 36.375 \r\nQ 16.5 21.390625 20.328125 13.890625 \r\nQ 24.171875 6.390625 31.78125 6.390625 \r\nQ 39.453125 6.390625 43.28125 13.890625 \r\nQ 47.125 21.390625 47.125 36.375 \r\nQ 47.125 51.421875 43.28125 58.90625 \r\nQ 39.453125 66.40625 31.78125 66.40625 \r\nz\r\nM 31.78125 74.21875 \r\nQ 44.046875 74.21875 50.515625 64.515625 \r\nQ 56.984375 54.828125 56.984375 36.375 \r\nQ 56.984375 17.96875 50.515625 8.265625 \r\nQ 44.046875 -1.421875 31.78125 -1.421875 \r\nQ 19.53125 -1.421875 13.0625 8.265625 \r\nQ 6.59375 17.96875 6.59375 36.375 \r\nQ 6.59375 54.828125 13.0625 64.515625 \r\nQ 19.53125 74.21875 31.78125 74.21875 \r\nz\r\n\" id=\"DejaVuSans-48\"/>\r\n       </defs>\r\n       <use xlink:href=\"#DejaVuSans-48\"/>\r\n      </g>\r\n     </g>\r\n    </g>\r\n    <g id=\"xtick_2\">\r\n     <g id=\"line2d_2\">\r\n      <g>\r\n       <use style=\"stroke:#000000;stroke-width:0.8;\" x=\"70.5619\" xlink:href=\"#ma9b99b3e2a\" y=\"27.144019\"/>\r\n      </g>\r\n     </g>\r\n     <g id=\"text_2\">\r\n      <!-- 250 -->\r\n      <g transform=\"translate(61.01815 41.742456)scale(0.1 -0.1)\">\r\n       <defs>\r\n        <path d=\"M 19.1875 8.296875 \r\nL 53.609375 8.296875 \r\nL 53.609375 0 \r\nL 7.328125 0 \r\nL 7.328125 8.296875 \r\nQ 12.9375 14.109375 22.625 23.890625 \r\nQ 32.328125 33.6875 34.8125 36.53125 \r\nQ 39.546875 41.84375 41.421875 45.53125 \r\nQ 43.3125 49.21875 43.3125 52.78125 \r\nQ 43.3125 58.59375 39.234375 62.25 \r\nQ 35.15625 65.921875 28.609375 65.921875 \r\nQ 23.96875 65.921875 18.8125 64.3125 \r\nQ 13.671875 62.703125 7.8125 59.421875 \r\nL 7.8125 69.390625 \r\nQ 13.765625 71.78125 18.9375 73 \r\nQ 24.125 74.21875 28.421875 74.21875 \r\nQ 39.75 74.21875 46.484375 68.546875 \r\nQ 53.21875 62.890625 53.21875 53.421875 \r\nQ 53.21875 48.921875 51.53125 44.890625 \r\nQ 49.859375 40.875 45.40625 35.40625 \r\nQ 44.1875 33.984375 37.640625 27.21875 \r\nQ 31.109375 20.453125 19.1875 8.296875 \r\nz\r\n\" id=\"DejaVuSans-50\"/>\r\n        <path d=\"M 10.796875 72.90625 \r\nL 49.515625 72.90625 \r\nL 49.515625 64.59375 \r\nL 19.828125 64.59375 \r\nL 19.828125 46.734375 \r\nQ 21.96875 47.46875 24.109375 47.828125 \r\nQ 26.265625 48.1875 28.421875 48.1875 \r\nQ 40.625 48.1875 47.75 41.5 \r\nQ 54.890625 34.8125 54.890625 23.390625 \r\nQ 54.890625 11.625 47.5625 5.09375 \r\nQ 40.234375 -1.421875 26.90625 -1.421875 \r\nQ 22.3125 -1.421875 17.546875 -0.640625 \r\nQ 12.796875 0.140625 7.71875 1.703125 \r\nL 7.71875 11.625 \r\nQ 12.109375 9.234375 16.796875 8.0625 \r\nQ 21.484375 6.890625 26.703125 6.890625 \r\nQ 35.15625 6.890625 40.078125 11.328125 \r\nQ 45.015625 15.765625 45.015625 23.390625 \r\nQ 45.015625 31 40.078125 35.4375 \r\nQ 35.15625 39.890625 26.703125 39.890625 \r\nQ 22.75 39.890625 18.8125 39.015625 \r\nQ 14.890625 38.140625 10.796875 36.28125 \r\nz\r\n\" id=\"DejaVuSans-53\"/>\r\n       </defs>\r\n       <use xlink:href=\"#DejaVuSans-50\"/>\r\n       <use x=\"63.623047\" xlink:href=\"#DejaVuSans-53\"/>\r\n       <use x=\"127.246094\" xlink:href=\"#DejaVuSans-48\"/>\r\n      </g>\r\n     </g>\r\n    </g>\r\n    <g id=\"xtick_3\">\r\n     <g id=\"line2d_3\">\r\n      <g>\r\n       <use style=\"stroke:#000000;stroke-width:0.8;\" x=\"107.7619\" xlink:href=\"#ma9b99b3e2a\" y=\"27.144019\"/>\r\n      </g>\r\n     </g>\r\n     <g id=\"text_3\">\r\n      <!-- 500 -->\r\n      <g transform=\"translate(98.21815 41.742456)scale(0.1 -0.1)\">\r\n       <use xlink:href=\"#DejaVuSans-53\"/>\r\n       <use x=\"63.623047\" xlink:href=\"#DejaVuSans-48\"/>\r\n       <use x=\"127.246094\" xlink:href=\"#DejaVuSans-48\"/>\r\n      </g>\r\n     </g>\r\n    </g>\r\n    <g id=\"xtick_4\">\r\n     <g id=\"line2d_4\">\r\n      <g>\r\n       <use style=\"stroke:#000000;stroke-width:0.8;\" x=\"144.9619\" xlink:href=\"#ma9b99b3e2a\" y=\"27.144019\"/>\r\n      </g>\r\n     </g>\r\n     <g id=\"text_4\">\r\n      <!-- 750 -->\r\n      <g transform=\"translate(135.41815 41.742456)scale(0.1 -0.1)\">\r\n       <defs>\r\n        <path d=\"M 8.203125 72.90625 \r\nL 55.078125 72.90625 \r\nL 55.078125 68.703125 \r\nL 28.609375 0 \r\nL 18.3125 0 \r\nL 43.21875 64.59375 \r\nL 8.203125 64.59375 \r\nz\r\n\" id=\"DejaVuSans-55\"/>\r\n       </defs>\r\n       <use xlink:href=\"#DejaVuSans-55\"/>\r\n       <use x=\"63.623047\" xlink:href=\"#DejaVuSans-53\"/>\r\n       <use x=\"127.246094\" xlink:href=\"#DejaVuSans-48\"/>\r\n      </g>\r\n     </g>\r\n    </g>\r\n    <g id=\"xtick_5\">\r\n     <g id=\"line2d_5\">\r\n      <g>\r\n       <use style=\"stroke:#000000;stroke-width:0.8;\" x=\"182.1619\" xlink:href=\"#ma9b99b3e2a\" y=\"27.144019\"/>\r\n      </g>\r\n     </g>\r\n     <g id=\"text_5\">\r\n      <!-- 1000 -->\r\n      <g transform=\"translate(169.4369 41.742456)scale(0.1 -0.1)\">\r\n       <defs>\r\n        <path d=\"M 12.40625 8.296875 \r\nL 28.515625 8.296875 \r\nL 28.515625 63.921875 \r\nL 10.984375 60.40625 \r\nL 10.984375 69.390625 \r\nL 28.421875 72.90625 \r\nL 38.28125 72.90625 \r\nL 38.28125 8.296875 \r\nL 54.390625 8.296875 \r\nL 54.390625 0 \r\nL 12.40625 0 \r\nz\r\n\" id=\"DejaVuSans-49\"/>\r\n       </defs>\r\n       <use xlink:href=\"#DejaVuSans-49\"/>\r\n       <use x=\"63.623047\" xlink:href=\"#DejaVuSans-48\"/>\r\n       <use x=\"127.246094\" xlink:href=\"#DejaVuSans-48\"/>\r\n       <use x=\"190.869141\" xlink:href=\"#DejaVuSans-48\"/>\r\n      </g>\r\n     </g>\r\n    </g>\r\n    <g id=\"xtick_6\">\r\n     <g id=\"line2d_6\">\r\n      <g>\r\n       <use style=\"stroke:#000000;stroke-width:0.8;\" x=\"219.3619\" xlink:href=\"#ma9b99b3e2a\" y=\"27.144019\"/>\r\n      </g>\r\n     </g>\r\n     <g id=\"text_6\">\r\n      <!-- 1250 -->\r\n      <g transform=\"translate(206.6369 41.742456)scale(0.1 -0.1)\">\r\n       <use xlink:href=\"#DejaVuSans-49\"/>\r\n       <use x=\"63.623047\" xlink:href=\"#DejaVuSans-50\"/>\r\n       <use x=\"127.246094\" xlink:href=\"#DejaVuSans-53\"/>\r\n       <use x=\"190.869141\" xlink:href=\"#DejaVuSans-48\"/>\r\n      </g>\r\n     </g>\r\n    </g>\r\n    <g id=\"xtick_7\">\r\n     <g id=\"line2d_7\">\r\n      <g>\r\n       <use style=\"stroke:#000000;stroke-width:0.8;\" x=\"256.5619\" xlink:href=\"#ma9b99b3e2a\" y=\"27.144019\"/>\r\n      </g>\r\n     </g>\r\n     <g id=\"text_7\">\r\n      <!-- 1500 -->\r\n      <g transform=\"translate(243.8369 41.742456)scale(0.1 -0.1)\">\r\n       <use xlink:href=\"#DejaVuSans-49\"/>\r\n       <use x=\"63.623047\" xlink:href=\"#DejaVuSans-53\"/>\r\n       <use x=\"127.246094\" xlink:href=\"#DejaVuSans-48\"/>\r\n       <use x=\"190.869141\" xlink:href=\"#DejaVuSans-48\"/>\r\n      </g>\r\n     </g>\r\n    </g>\r\n    <g id=\"xtick_8\">\r\n     <g id=\"line2d_8\">\r\n      <g>\r\n       <use style=\"stroke:#000000;stroke-width:0.8;\" x=\"293.7619\" xlink:href=\"#ma9b99b3e2a\" y=\"27.144019\"/>\r\n      </g>\r\n     </g>\r\n     <g id=\"text_8\">\r\n      <!-- 1750 -->\r\n      <g transform=\"translate(281.0369 41.742456)scale(0.1 -0.1)\">\r\n       <use xlink:href=\"#DejaVuSans-49\"/>\r\n       <use x=\"63.623047\" xlink:href=\"#DejaVuSans-55\"/>\r\n       <use x=\"127.246094\" xlink:href=\"#DejaVuSans-53\"/>\r\n       <use x=\"190.869141\" xlink:href=\"#DejaVuSans-48\"/>\r\n      </g>\r\n     </g>\r\n    </g>\r\n    <g id=\"xtick_9\">\r\n     <g id=\"line2d_9\">\r\n      <g>\r\n       <use style=\"stroke:#000000;stroke-width:0.8;\" x=\"330.9619\" xlink:href=\"#ma9b99b3e2a\" y=\"27.144019\"/>\r\n      </g>\r\n     </g>\r\n     <g id=\"text_9\">\r\n      <!-- 2000 -->\r\n      <g transform=\"translate(318.2369 41.742456)scale(0.1 -0.1)\">\r\n       <use xlink:href=\"#DejaVuSans-50\"/>\r\n       <use x=\"63.623047\" xlink:href=\"#DejaVuSans-48\"/>\r\n       <use x=\"127.246094\" xlink:href=\"#DejaVuSans-48\"/>\r\n       <use x=\"190.869141\" xlink:href=\"#DejaVuSans-48\"/>\r\n      </g>\r\n     </g>\r\n    </g>\r\n   </g>\r\n   <g id=\"matplotlib.axis_2\">\r\n    <g id=\"ytick_1\">\r\n     <g id=\"line2d_10\">\r\n      <defs>\r\n       <path d=\"M 0 0 \r\nL -3.5 0 \r\n\" id=\"m92ae5c78d0\" style=\"stroke:#000000;stroke-width:0.8;\"/>\r\n      </defs>\r\n      <g>\r\n       <use style=\"stroke:#000000;stroke-width:0.8;\" x=\"33.2875\" xlink:href=\"#m92ae5c78d0\" y=\"10.999219\"/>\r\n      </g>\r\n     </g>\r\n     <g id=\"text_10\">\r\n      <!-- 0 -->\r\n      <g transform=\"translate(19.925 14.798437)scale(0.1 -0.1)\">\r\n       <use xlink:href=\"#DejaVuSans-48\"/>\r\n      </g>\r\n     </g>\r\n    </g>\r\n    <g id=\"ytick_2\">\r\n     <g id=\"line2d_11\">\r\n      <g>\r\n       <use style=\"stroke:#000000;stroke-width:0.8;\" x=\"33.2875\" xlink:href=\"#m92ae5c78d0\" y=\"25.879219\"/>\r\n      </g>\r\n     </g>\r\n     <g id=\"text_11\">\r\n      <!-- 100 -->\r\n      <g transform=\"translate(7.2 29.678438)scale(0.1 -0.1)\">\r\n       <use xlink:href=\"#DejaVuSans-49\"/>\r\n       <use x=\"63.623047\" xlink:href=\"#DejaVuSans-48\"/>\r\n       <use x=\"127.246094\" xlink:href=\"#DejaVuSans-48\"/>\r\n      </g>\r\n     </g>\r\n    </g>\r\n   </g>\r\n   <g id=\"patch_3\">\r\n    <path d=\"M 33.2875 27.144019 \r\nL 33.2875 10.924819 \r\n\" style=\"fill:none;stroke:#000000;stroke-linecap:square;stroke-linejoin:miter;stroke-width:0.8;\"/>\r\n   </g>\r\n   <g id=\"patch_4\">\r\n    <path d=\"M 368.0875 27.144019 \r\nL 368.0875 10.924819 \r\n\" style=\"fill:none;stroke:#000000;stroke-linecap:square;stroke-linejoin:miter;stroke-width:0.8;\"/>\r\n   </g>\r\n   <g id=\"patch_5\">\r\n    <path d=\"M 33.2875 27.144019 \r\nL 368.0875 27.144019 \r\n\" style=\"fill:none;stroke:#000000;stroke-linecap:square;stroke-linejoin:miter;stroke-width:0.8;\"/>\r\n   </g>\r\n   <g id=\"patch_6\">\r\n    <path d=\"M 33.2875 10.924819 \r\nL 368.0875 10.924819 \r\n\" style=\"fill:none;stroke:#000000;stroke-linecap:square;stroke-linejoin:miter;stroke-width:0.8;\"/>\r\n   </g>\r\n  </g>\r\n </g>\r\n <defs>\r\n  <clipPath id=\"p467af769ec\">\r\n   <rect height=\"16.2192\" width=\"334.8\" x=\"33.2875\" y=\"10.924819\"/>\r\n  </clipPath>\r\n </defs>\r\n</svg>\r\n",
      "image/png": "[encoded data removed]"
     },
     "metadata": {
      "needs_background": "light"
     }
    }
   ],
   "source": [
    "model.fit(deconvcells)\n",
    "plt.imshow(deconvcells[model.isort, :],vmin =0, vmax =200, cmap = 'gray')"
   ]
  },
  {
   "cell_type": "code",
   "execution_count": 24,
   "metadata": {},
   "outputs": [
    {
     "output_type": "error",
     "ename": "AttributeError",
     "evalue": "'Rastermap' object has no attribute 'name'",
     "traceback": [
      "\u001b[1;31m---------------------------------------------------------------------------\u001b[0m",
      "\u001b[1;31mAttributeError\u001b[0m                            Traceback (most recent call last)",
      "\u001b[1;32m<ipython-input-24-b89a51001ac1>\u001b[0m in \u001b[0;36m<module>\u001b[1;34m\u001b[0m\n\u001b[1;32m----> 1\u001b[1;33m \u001b[0mmodel\u001b[0m\u001b[1;33m.\u001b[0m\u001b[0mname\u001b[0m\u001b[1;33m\u001b[0m\u001b[1;33m\u001b[0m\u001b[0m\n\u001b[0m",
      "\u001b[1;31mAttributeError\u001b[0m: 'Rastermap' object has no attribute 'name'"
     ]
    }
   ],
   "source": []
  },
  {
   "cell_type": "code",
   "execution_count": null,
   "metadata": {},
   "outputs": [],
   "source": []
  }
 ]
}